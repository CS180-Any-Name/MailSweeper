{
 "cells": [
  {
   "cell_type": "code",
   "execution_count": 1,
   "id": "9dd9d0f3",
   "metadata": {},
   "outputs": [
    {
     "name": "stdout",
     "output_type": "stream",
     "text": [
      "Text processing done!\n"
     ]
    }
   ],
   "source": [
    "import re\n",
    "from gensim.parsing.preprocessing import remove_stopwords\n",
    "from nltk.stem import WordNetLemmatizer\n",
    "import csv"
   ]
  },
  {
   "cell_type": "markdown",
   "id": "1045a2c5",
   "metadata": {},
   "source": [
    "# Text Preprocessing"
   ]
  },
  {
   "cell_type": "markdown",
   "id": "452b08c0",
   "metadata": {},
   "source": [
    "For text preprocessing, `gensim` and `nltk` were used. The following processes were used:\n",
    "- Noise removal\n",
    "- Lemmatization"
   ]
  },
  {
   "cell_type": "code",
   "execution_count": null,
   "id": "b953eed1",
   "metadata": {},
   "outputs": [],
   "source": [
    "lemmatizer = WordNetLemmatizer()\n",
    "processed = open(\"../Data/text_processed.csv\", \"a+\", encoding=\"utf-8\")\n",
    "processed.write(\"Image_File,Processed_Text,IsSpam\\n\")\n",
    "\n",
    "with open(\"../Data/text_content.csv\", mode='r', encoding=\"utf-8\") as csv_file:\n",
    "    csv_reader = csv.DictReader(csv_file)\n",
    "    for row in csv_reader: \n",
    "        img_file = row[\"Image_File\"]\n",
    "        label = row[\"IsSpam\"]\n",
    "        text = row[\"Image_Text\"].lower()\n",
    "        \n",
    "        # Noise Removal\n",
    "        denoised_text = re.sub(r'[^A-Za-z0-9 ]+', '', text)\n",
    "        denoised_text = remove_stopwords(denoised_text)\n",
    "        \n",
    "        # Lemmatization\n",
    "        lemmatized_text = ' '.join(lemmatizer.lemmatize(word=word,pos='v') for word in denoised_text.split())\n",
    "        \n",
    "        processed_text = f\"{img_file},{lemmatized_text},{label}\\n\"\n",
    "        processed.write(processed_text)\n",
    "\n",
    "print(\"Text processing done!\")"
   ]
  }
 ],
 "metadata": {
  "kernelspec": {
   "display_name": "Python 3 (ipykernel)",
   "language": "python",
   "name": "python3"
  },
  "language_info": {
   "codemirror_mode": {
    "name": "ipython",
    "version": 3
   },
   "file_extension": ".py",
   "mimetype": "text/x-python",
   "name": "python",
   "nbconvert_exporter": "python",
   "pygments_lexer": "ipython3",
   "version": "3.8.13"
  }
 },
 "nbformat": 4,
 "nbformat_minor": 5
}
