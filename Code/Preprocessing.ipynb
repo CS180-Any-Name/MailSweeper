{
 "cells": [
  {
   "cell_type": "code",
   "execution_count": 33,
   "id": "266e7e03",
   "metadata": {},
   "outputs": [
    {
     "name": "stdout",
     "output_type": "stream",
     "text": [
      "SpamHunter Spam done!\n",
      "Dredze Ham done!\n",
      "Dredze Spam done!\n",
      "Princeton done!\n",
      "SpamHunter Ham done!\n",
      "SpamHunter Spam done!\n",
      "Preprocessing done!\n"
     ]
    }
   ],
   "source": [
    "import cv2\n",
    "import numpy as np\n",
    "import os\n",
    "from matplotlib import pyplot as plt\n",
    "from PIL import Image, ImageFile\n",
    "\n",
    "path = '../Data/Raw'\n",
    "image_num = 1\n",
    "ImageFile.LOAD_TRUNCATED_IMAGES = True\n",
    "for root, dirs, files in os.walk(path):\n",
    "    for file in files:\n",
    "        img_file = os.path.join(root,file)\n",
    "        folder = root.split(\"\\\\\")\n",
    "\n",
    "        img = Image.open(img_file)\n",
    "        rgb_img = img.convert(\"RGB\")\n",
    "        open_cv_img = np.array(rgb_img) \n",
    "\n",
    "        # Convert RGB to BGR \n",
    "        orig_img = open_cv_img[:, :, ::-1].copy()\n",
    "\n",
    "        # Denoising\n",
    "        orig_img = cv2.cvtColor(orig_img, cv2.COLOR_BGR2RGB)\n",
    "        denoised_img = cv2.fastNlMeansDenoisingColored(orig_img,None,10,10,7,21)\n",
    "\n",
    "        # Sharpening\n",
    "        kernel = np.array([[0, -1, 0],\n",
    "                       [-1, 5,-1],\n",
    "                       [0, -1, 0]])\n",
    "        sharpened_img = cv2.filter2D(src=denoised_img, ddepth=-1, kernel=kernel)\n",
    "\n",
    "        # Binarization\n",
    "        image_gray = cv2.cvtColor(sharpened_img, cv2.COLOR_BGR2GRAY)\n",
    "        th, binarized_img = cv2.threshold(src=image_gray, thresh=127, maxval=255, type=cv2.THRESH_BINARY)\n",
    "\n",
    "        # Save image\n",
    "        new_file = '../Data/Processed/' + folder[1] + '/' + str(image_num) + '.jpg'\n",
    "        cv2.imwrite(new_file, binarized_img)\n",
    "\n",
    "        image_num += 1\n",
    "    print(folder[1] + \" done!\")\n",
    "print(\"Preprocessing done!\")\n",
    "    \n",
    "# Display processed images\n",
    "# fig, (ax1, ax2, ax3, ax4) = plt.subplots(nrows=1, ncols=4, figsize=(10, 20))        \n",
    "# ax1.axis(\"off\")\n",
    "# ax1.title.set_text('Original')      \n",
    "# ax2.axis(\"off\")\n",
    "# ax2.title.set_text(\"Denoised\") \n",
    "# ax3.axis(\"off\")\n",
    "# ax3.title.set_text(\"Sharpened\")\n",
    "# ax4.axis(\"off\")\n",
    "# ax4.title.set_text(\"Binarized\")\n",
    "# ax1.imshow(orig_img)\n",
    "# ax2.imshow(denoised_img)\n",
    "# ax3.imshow(sharpened_img)\n",
    "# ax4.imshow(binarized_img, cmap=\"gray\")"
   ]
  },
  {
   "cell_type": "code",
   "execution_count": null,
   "id": "c19cbb57",
   "metadata": {},
   "outputs": [],
   "source": []
  }
 ],
 "metadata": {
  "kernelspec": {
   "display_name": "Python 3 (ipykernel)",
   "language": "python",
   "name": "python3"
  },
  "language_info": {
   "codemirror_mode": {
    "name": "ipython",
    "version": 3
   },
   "file_extension": ".py",
   "mimetype": "text/x-python",
   "name": "python",
   "nbconvert_exporter": "python",
   "pygments_lexer": "ipython3",
   "version": "3.10.0"
  }
 },
 "nbformat": 4,
 "nbformat_minor": 5
}
