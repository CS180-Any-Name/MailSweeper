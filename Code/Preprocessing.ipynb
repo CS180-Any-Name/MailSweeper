{
 "cells": [
  {
   "cell_type": "markdown",
   "id": "24fa661f",
   "metadata": {},
   "source": [
    "# Image Preprocessing"
   ]
  },
  {
   "cell_type": "markdown",
   "id": "df6492d2",
   "metadata": {},
   "source": [
    "During image preprocessing, `opencv` was used to perform image transformations. The following transformations were used to preprocess the images in the `Raw` folder.\n",
    "- Getting the negative of the image\n",
    "- Denoising\n",
    "- Sharpening\n",
    "- Binarization\n",
    "\n",
    "First, we import the dependencies for this file."
   ]
  },
  {
   "cell_type": "code",
   "execution_count": 4,
   "id": "266e7e03",
   "metadata": {},
   "outputs": [
    {
     "ename": "ImportError",
     "evalue": "libGL.so.1: cannot open shared object file: No such file or directory",
     "output_type": "error",
     "traceback": [
      "\u001b[0;31m---------------------------------------------------------------------------\u001b[0m",
      "\u001b[0;31mImportError\u001b[0m                               Traceback (most recent call last)",
      "Input \u001b[0;32mIn [4]\u001b[0m, in \u001b[0;36m<cell line: 1>\u001b[0;34m()\u001b[0m\n\u001b[0;32m----> 1\u001b[0m \u001b[38;5;28;01mimport\u001b[39;00m \u001b[38;5;21;01mcv2\u001b[39;00m\n\u001b[1;32m      2\u001b[0m \u001b[38;5;28;01mimport\u001b[39;00m \u001b[38;5;21;01mnumpy\u001b[39;00m \u001b[38;5;28;01mas\u001b[39;00m \u001b[38;5;21;01mnp\u001b[39;00m\n\u001b[1;32m      3\u001b[0m \u001b[38;5;28;01mimport\u001b[39;00m \u001b[38;5;21;01mos\u001b[39;00m\n",
      "File \u001b[0;32m~/.local/lib/python3.8/site-packages/cv2/__init__.py:8\u001b[0m, in \u001b[0;36m<module>\u001b[0;34m\u001b[0m\n\u001b[1;32m      5\u001b[0m \u001b[38;5;28;01mimport\u001b[39;00m \u001b[38;5;21;01mimportlib\u001b[39;00m\n\u001b[1;32m      6\u001b[0m \u001b[38;5;28;01mimport\u001b[39;00m \u001b[38;5;21;01msys\u001b[39;00m\n\u001b[0;32m----> 8\u001b[0m \u001b[38;5;28;01mfrom\u001b[39;00m \u001b[38;5;21;01m.\u001b[39;00m\u001b[38;5;21;01mcv2\u001b[39;00m \u001b[38;5;28;01mimport\u001b[39;00m \u001b[38;5;241m*\u001b[39m\n\u001b[1;32m      9\u001b[0m \u001b[38;5;28;01mfrom\u001b[39;00m \u001b[38;5;21;01m.\u001b[39;00m\u001b[38;5;21;01mcv2\u001b[39;00m \u001b[38;5;28;01mimport\u001b[39;00m _registerMatType\n\u001b[1;32m     10\u001b[0m \u001b[38;5;28;01mfrom\u001b[39;00m \u001b[38;5;21;01m.\u001b[39;00m \u001b[38;5;28;01mimport\u001b[39;00m mat_wrapper\n",
      "\u001b[0;31mImportError\u001b[0m: libGL.so.1: cannot open shared object file: No such file or directory"
     ]
    }
   ],
   "source": [
    "import cv2\n",
    "import numpy as np\n",
    "import os\n",
    "from matplotlib import pyplot as plt\n",
    "from PIL import Image, ImageFile"
   ]
  },
  {
   "cell_type": "markdown",
   "id": "c1983cfe",
   "metadata": {},
   "source": [
    "We use a `for` loop to iterate on the images in `Data/Raw`. For each iteration of the `for` loop, the image is first converted to its negative. Then, the image is denoised using `opencv`, and then sharpened. Afterwards, the image is converted to grayscale, and then saved to `Data/Processed`."
   ]
  },
  {
   "cell_type": "code",
   "execution_count": 5,
   "id": "a0ce6f7b",
   "metadata": {},
   "outputs": [
    {
     "ename": "NameError",
     "evalue": "name 'ImageFile' is not defined",
     "output_type": "error",
     "traceback": [
      "\u001b[0;31m---------------------------------------------------------------------------\u001b[0m",
      "\u001b[0;31mNameError\u001b[0m                                 Traceback (most recent call last)",
      "Input \u001b[0;32mIn [5]\u001b[0m, in \u001b[0;36m<cell line: 3>\u001b[0;34m()\u001b[0m\n\u001b[1;32m      1\u001b[0m path \u001b[38;5;241m=\u001b[39m \u001b[38;5;124m'\u001b[39m\u001b[38;5;124m../Data/Raw\u001b[39m\u001b[38;5;124m'\u001b[39m\n\u001b[1;32m      2\u001b[0m image_num \u001b[38;5;241m=\u001b[39m \u001b[38;5;241m1\u001b[39m\n\u001b[0;32m----> 3\u001b[0m \u001b[43mImageFile\u001b[49m\u001b[38;5;241m.\u001b[39mLOAD_TRUNCATED_IMAGES \u001b[38;5;241m=\u001b[39m \u001b[38;5;28;01mTrue\u001b[39;00m\n\u001b[1;32m      4\u001b[0m \u001b[38;5;28;01mfor\u001b[39;00m root, dirs, files \u001b[38;5;129;01min\u001b[39;00m os\u001b[38;5;241m.\u001b[39mwalk(path):\n\u001b[1;32m      5\u001b[0m     \u001b[38;5;28;01mfor\u001b[39;00m file \u001b[38;5;129;01min\u001b[39;00m files:\n",
      "\u001b[0;31mNameError\u001b[0m: name 'ImageFile' is not defined"
     ]
    }
   ],
   "source": [
    "path = '../Data/Raw'\n",
    "image_num = 1\n",
    "ImageFile.LOAD_TRUNCATED_IMAGES = True\n",
    "for root, dirs, files in os.walk(path):\n",
    "    for file in files:\n",
    "        img_file = os.path.join(root,file)\n",
    "        folder = root.split(\"\\\\\")\n",
    "\n",
    "        img = Image.open(img_file)\n",
    "        rgb_img = img.convert(\"RGB\")\n",
    "        open_cv_img = np.array(rgb_img) \n",
    "\n",
    "        # Convert RGB to BGR \n",
    "        orig_img = open_cv_img[:, :, ::-1].copy()\n",
    "\n",
    "        # Denoising\n",
    "        orig_img = cv2.cvtColor(orig_img, cv2.COLOR_BGR2RGB)\n",
    "        denoised_img = cv2.fastNlMeansDenoisingColored(orig_img,None,10,10,7,21)\n",
    "\n",
    "        # Sharpening\n",
    "        kernel = np.array([[0, -1, 0],\n",
    "                       [-1, 5,-1],\n",
    "                       [0, -1, 0]])\n",
    "        sharpened_img = cv2.filter2D(src=denoised_img, ddepth=-1, kernel=kernel)\n",
    "\n",
    "        # Binarization\n",
    "        image_gray = cv2.cvtColor(sharpened_img, cv2.COLOR_BGR2GRAY)\n",
    "        th, binarized_img = cv2.threshold(src=image_gray, thresh=127, maxval=255, type=cv2.THRESH_BINARY)\n",
    "\n",
    "        # Save image\n",
    "        new_file = '../Data/Processed/' + folder[1] + '/' + str(image_num) + '.jpg'\n",
    "        cv2.imwrite(new_file, binarized_img)\n",
    "\n",
    "        image_num += 1\n",
    "    print(folder[1] + \" done!\")\n",
    "print(\"Preprocessing done!\")"
   ]
  },
  {
   "cell_type": "code",
   "execution_count": null,
   "id": "578575a5",
   "metadata": {},
   "outputs": [],
   "source": []
  }
 ],
 "metadata": {
  "kernelspec": {
   "display_name": "Python 3 (ipykernel)",
   "language": "python",
   "name": "python3"
  },
  "language_info": {
   "codemirror_mode": {
    "name": "ipython",
    "version": 3
   },
   "file_extension": ".py",
   "mimetype": "text/x-python",
   "name": "python",
   "nbconvert_exporter": "python",
   "pygments_lexer": "ipython3",
   "version": "3.8.13"
  }
 },
 "nbformat": 4,
 "nbformat_minor": 5
}
