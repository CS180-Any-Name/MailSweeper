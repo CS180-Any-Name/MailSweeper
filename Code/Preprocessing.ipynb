{
 "cells": [
  {
   "cell_type": "markdown",
   "id": "24fa661f",
   "metadata": {},
   "source": [
    "# Image Preprocessing"
   ]
  },
  {
   "cell_type": "markdown",
   "id": "df6492d2",
   "metadata": {},
   "source": [
    "During image preprocessing, `opencv` was used to perform image transformations. The following transformations were used to preprocess the images in the `Raw` folder.\n",
    "- Getting the negative of the image\n",
    "- Denoising\n",
    "- Sharpening\n",
    "- Binarization\n",
    "\n",
    "First, we import the dependencies for this file."
   ]
  },
  {
   "cell_type": "code",
   "execution_count": null,
   "id": "266e7e03",
   "metadata": {},
   "outputs": [],
   "source": [
    "import cv2\n",
    "import numpy as np\n",
    "import os\n",
    "from matplotlib import pyplot as plt\n",
    "from PIL import Image, ImageFile"
   ]
  },
  {
   "cell_type": "markdown",
   "id": "c1983cfe",
   "metadata": {},
   "source": [
    "We use a `for` loop to iterate on the images in `Data/Raw`. For each iteration of the `for` loop, the image is first converted to its negative. Then, the image is denoised using `opencv`, and then sharpened. Afterwards, the image is converted to grayscale, and then saved to `Data/Processed`."
   ]
  },
  {
   "cell_type": "code",
   "execution_count": null,
   "id": "a0ce6f7b",
   "metadata": {},
   "outputs": [],
   "source": [
    "path = '../Data/Raw'\n",
    "image_num = 1\n",
    "ImageFile.LOAD_TRUNCATED_IMAGES = True\n",
    "for root, dirs, files in os.walk(path):\n",
    "    for file in files:\n",
    "        img_file = os.path.join(root,file)\n",
    "        folder = root.split(\"\\\\\")\n",
    "\n",
    "        img = Image.open(img_file)\n",
    "        rgb_img = img.convert(\"RGB\")\n",
    "        open_cv_img = np.array(rgb_img) \n",
    "\n",
    "        # Convert RGB to BGR \n",
    "        orig_img = open_cv_img[:, :, ::-1].copy()\n",
    "\n",
    "        # Denoising\n",
    "        orig_img = cv2.cvtColor(orig_img, cv2.COLOR_BGR2RGB)\n",
    "        denoised_img = cv2.fastNlMeansDenoisingColored(orig_img,None,10,10,7,21)\n",
    "\n",
    "        # Sharpening\n",
    "        kernel = np.array([[0, -1, 0],\n",
    "                       [-1, 5,-1],\n",
    "                       [0, -1, 0]])\n",
    "        sharpened_img = cv2.filter2D(src=denoised_img, ddepth=-1, kernel=kernel)\n",
    "\n",
    "        # Binarization\n",
    "        image_gray = cv2.cvtColor(sharpened_img, cv2.COLOR_BGR2GRAY)\n",
    "        th, binarized_img = cv2.threshold(src=image_gray, thresh=127, maxval=255, type=cv2.THRESH_BINARY)\n",
    "\n",
    "        # Save image\n",
    "        new_file = '../Data/Processed/' + folder[1] + '/' + str(image_num) + '.jpg'\n",
    "        cv2.imwrite(new_file, binarized_img)\n",
    "\n",
    "        image_num += 1\n",
    "    print(folder[1] + \" done!\")\n",
    "print(\"Preprocessing done!\")"
   ]
  },
  {
   "cell_type": "code",
   "execution_count": null,
   "id": "578575a5",
   "metadata": {},
   "outputs": [],
   "source": []
  }
 ],
 "metadata": {
  "kernelspec": {
   "display_name": "Python 3 (ipykernel)",
   "language": "python",
   "name": "python3"
  },
  "language_info": {
   "codemirror_mode": {
    "name": "ipython",
    "version": 3
   },
   "file_extension": ".py",
   "mimetype": "text/x-python",
   "name": "python",
   "nbconvert_exporter": "python",
   "pygments_lexer": "ipython3",
   "version": "3.10.0"
  }
 },
 "nbformat": 4,
 "nbformat_minor": 5
}
