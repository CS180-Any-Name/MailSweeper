{
 "cells": [
  {
   "cell_type": "markdown",
   "id": "45d58972",
   "metadata": {},
   "source": [
    "# Text Extraction"
   ]
  },
  {
   "cell_type": "markdown",
   "id": "57cce7bb",
   "metadata": {},
   "source": [
    "### Optical Character Recognition"
   ]
  },
  {
   "cell_type": "code",
   "execution_count": 8,
   "id": "51bf0bc1",
   "metadata": {},
   "outputs": [
    {
     "name": "stdout",
     "output_type": "stream",
     "text": [
      "Result:  Low Refinance Rates!\n",
      "\n",
      "Home Owners Approved for 3.25% Guaranteed!\n",
      "\n",
      ") Find a Home Loan\n",
      "+ Compare Rates\n",
      "\n",
      "+ Get a Home Equity Loan\n",
      "} Refinance Today\n",
      "} Debt Consolidation\n",
      "+ Bad Credit OK!\n",
      "\n",
      "Click Here Now!\n",
      "\n",
      "\n"
     ]
    }
   ],
   "source": [
    "import pytesseract\n",
    "import numpy as np\n",
    "from PIL import Image\n",
    "\n",
    "# To install Tesseract (Windows):\n",
    "# 1. Install the binary file (https://github.com/UB-Mannheim/tesseract/wiki)\n",
    "# 2. pip install pytesseract\n",
    "\n",
    "# Change according to where Tesseract is installed\n",
    "pytesseract.pytesseract.tesseract_cmd = \"C:/Program Files/Tesseract-OCR/tesseract.exe\"\n",
    "\n",
    "filename = '../Data/Processed/2.jpg'\n",
    "img = np.array(Image.open(filename))\n",
    "text = pytesseract.image_to_string(img)\n",
    "print('Result: ',text)"
   ]
  },
  {
   "cell_type": "code",
   "execution_count": null,
   "id": "80ee3f8e",
   "metadata": {},
   "outputs": [],
   "source": []
  },
  {
   "cell_type": "code",
   "execution_count": null,
   "id": "b520cfca",
   "metadata": {},
   "outputs": [],
   "source": []
  }
 ],
 "metadata": {
  "kernelspec": {
   "display_name": "Python 3 (ipykernel)",
   "language": "python",
   "name": "python3"
  },
  "language_info": {
   "codemirror_mode": {
    "name": "ipython",
    "version": 3
   },
   "file_extension": ".py",
   "mimetype": "text/x-python",
   "name": "python",
   "nbconvert_exporter": "python",
   "pygments_lexer": "ipython3",
   "version": "3.10.0"
  }
 },
 "nbformat": 4,
 "nbformat_minor": 5
}
