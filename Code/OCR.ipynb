{
 "cells": [
  {
   "cell_type": "markdown",
   "id": "45d58972",
   "metadata": {},
   "source": [
    "# Text Extraction"
   ]
  },
  {
   "cell_type": "markdown",
   "id": "57cce7bb",
   "metadata": {},
   "source": [
    "### Optical Character Recognition"
   ]
  },
  {
   "cell_type": "code",
   "execution_count": 3,
   "id": "51bf0bc1",
   "metadata": {},
   "outputs": [
    {
     "name": "stdout",
     "output_type": "stream",
     "text": [
      "Text extraction done!\n"
     ]
    }
   ],
   "source": [
    "import pytesseract\n",
    "import numpy as np\n",
    "import os\n",
    "from PIL import Image\n",
    "\n",
    "# To install Tesseract (Windows):\n",
    "# 1. Install the binary file (https://github.com/UB-Mannheim/tesseract/wiki)\n",
    "# 2. pip install pytesseract\n",
    "\n",
    "# Change according to where Tesseract is installed\n",
    "pytesseract.pytesseract.tesseract_cmd = r\"C:\\Users\\Updarma Down\\AppData\\Local\\Programs\\Tesseract-OCR\\tesseract.exe\"\n",
    "\n",
    "csv_file = open(\"../Data/text_content.csv\", \"a+\", encoding=\"utf-8\")\n",
    "csv_file.write(\"Image_File,Image_Text\\n\")\n",
    "\n",
    "path = '../Data/Processed'\n",
    "for file in os.listdir(path):\n",
    "    img_file = os.path.join(path,file)\n",
    "    img = np.array(Image.open(img_file))\n",
    "    text = pytesseract.image_to_string(img)\n",
    "    \n",
    "    # Remove new lines and commas\n",
    "    text = text.replace(\"\\n\", \" \")\n",
    "    text = text.replace(\",\", \"\")\n",
    "\n",
    "    # Save text to CSV file    \n",
    "    line = f\"{img_file},{text}\\n\"\n",
    "    csv_file.write(line)\n",
    "\n",
    "csv_file.close()\n",
    "print(\"Text extraction done!\")"
   ]
  },
  {
   "cell_type": "code",
   "execution_count": null,
   "id": "80ee3f8e",
   "metadata": {},
   "outputs": [],
   "source": []
  },
  {
   "cell_type": "code",
   "execution_count": null,
   "id": "b520cfca",
   "metadata": {},
   "outputs": [],
   "source": []
  },
  {
   "cell_type": "code",
   "execution_count": null,
   "id": "f117337b",
   "metadata": {},
   "outputs": [],
   "source": []
  },
  {
   "cell_type": "code",
   "execution_count": null,
   "id": "f2e949d2",
   "metadata": {},
   "outputs": [],
   "source": []
  }
 ],
 "metadata": {
  "kernelspec": {
   "display_name": "Python 3 (ipykernel)",
   "language": "python",
   "name": "python3"
  },
  "language_info": {
   "codemirror_mode": {
    "name": "ipython",
    "version": 3
   },
   "file_extension": ".py",
   "mimetype": "text/x-python",
   "name": "python",
   "nbconvert_exporter": "python",
   "pygments_lexer": "ipython3",
   "version": "3.9.7"
  }
 },
 "nbformat": 4,
 "nbformat_minor": 5
}
